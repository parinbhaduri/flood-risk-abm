{
 "cells": [
  {
   "cell_type": "markdown",
   "metadata": {},
   "source": [
    "__Defining Agent Types__\n",
    "\n",
    "Daisy has three values aside from id and pos: age, breed (`:black` or `:white`), and albedo set by user. \n",
    "Land represents the surface, with the additional value of Temperature. Since the entire surface has the same albedo field, we don't need to set it as a Land value. \n",
    "\n",
    "*Note: Land does not necessarily have to be an agent, and you can represent surface temperature as a matrix (model parameter). This gives a performance advantage,*\n",
    "*but incorporating surface agents allows for easier visualization*"
   ]
  },
  {
   "cell_type": "code",
   "execution_count": 2,
   "metadata": {},
   "outputs": [],
   "source": [
    "using Agents, Plots \n",
    "using Statistics: mean\n",
    "\n",
    "mutable struct Daisy <: AbstractAgent\n",
    "    id::Int\n",
    "    pos::Dims{2}\n",
    "    breed::Symbol\n",
    "    age::Int\n",
    "    albedo::Float64 #0-1 Fraction\n",
    "end\n",
    "\n",
    "mutable struct Land <: AbstractAgent\n",
    "    id::Int\n",
    "    pos::Dims{2}\n",
    "    temperature::Float64\n",
    "end\n",
    "\n",
    "const DaisyWorld = ABM{<:GridSpace, Union{Daisy, Land}};"
   ]
  },
  {
   "cell_type": "markdown",
   "metadata": {},
   "source": []
  },
  {
   "cell_type": "code",
   "execution_count": 7,
   "metadata": {},
   "outputs": [
    {
     "data": {
      "text/plain": [
       "update_surface_temperature (generic function with 1 method)"
      ]
     },
     "metadata": {},
     "output_type": "display_data"
    }
   ],
   "source": [
    "function update_surface_temperature(pos::Dims{2}, model::DaisyWorld)\n",
    "    ids = ids_in_position(pos, model)\n",
    "    #All grid positions have at least one agent (land) = Set luminosity via surface albedo\n",
    "    #More than one agent means daisy exists = Set luminosity via daisy albedo\n",
    "    absorbed_luminosity = \n",
    "    (length(ids) == 1) ? (1-model.surface_albedo)*model.solar_liminosity : (1-model[ids[2]].albedo) * model.solar_liminosity\n",
    "    #We expect heating to be 80 °C for an absorbed luminosity of 1,\n",
    "    #approximately 30 for 0.5 and approximately -273 for 0.01.\n",
    "    local_heating = (absorbed_luminosity > 0) ? 72 * log(absorbed_luminosity) + 80 : 80\n",
    "    #Surface temperature is the average of the current temperature and local heating\n",
    "    T0 = model[ids[1]].temperature \n",
    "    model[ids[1]].temperature = (T0 + local_heating) / 2\n",
    "end\n"
   ]
  },
  {
   "cell_type": "markdown",
   "metadata": {},
   "source": []
  },
  {
   "cell_type": "code",
   "execution_count": 10,
   "metadata": {},
   "outputs": [
    {
     "ename": "ErrorException",
     "evalue": "syntax: invalid identifier name \"?\"",
     "output_type": "error",
     "traceback": [
      "syntax: invalid identifier name \"?\"\n",
      "\n",
      "Stacktrace:\n",
      "  [1] top-level scope\n",
      "    @ ~/Documents/Repositories/flood-risk-abm/Agents.jl examples/Daisyworld-Example.ipynb:1\n",
      "  [2] eval\n",
      "    @ ./boot.jl:373 [inlined]\n",
      "  [3] include_string(mapexpr::typeof(REPL.softscope), mod::Module, code::String, filename::String)\n",
      "    @ Base ./loading.jl:1196\n",
      "  [4] #invokelatest#2\n",
      "    @ ./essentials.jl:716 [inlined]\n",
      "  [5] invokelatest\n",
      "    @ ./essentials.jl:714 [inlined]\n",
      "  [6] (::VSCodeServer.var\"#164#165\"{VSCodeServer.NotebookRunCellArguments, String})()\n",
      "    @ VSCodeServer ~/.vscode/extensions/julialang.language-julia-1.6.24/scripts/packages/VSCodeServer/src/serve_notebook.jl:19\n",
      "  [7] withpath(f::VSCodeServer.var\"#164#165\"{VSCodeServer.NotebookRunCellArguments, String}, path::String)\n",
      "    @ VSCodeServer ~/.vscode/extensions/julialang.language-julia-1.6.24/scripts/packages/VSCodeServer/src/repl.jl:184\n",
      "  [8] notebook_runcell_request(conn::VSCodeServer.JSONRPC.JSONRPCEndpoint{Base.PipeEndpoint, Base.PipeEndpoint}, params::VSCodeServer.NotebookRunCellArguments)\n",
      "    @ VSCodeServer ~/.vscode/extensions/julialang.language-julia-1.6.24/scripts/packages/VSCodeServer/src/serve_notebook.jl:13\n",
      "  [9] dispatch_msg(x::VSCodeServer.JSONRPC.JSONRPCEndpoint{Base.PipeEndpoint, Base.PipeEndpoint}, dispatcher::VSCodeServer.JSONRPC.MsgDispatcher, msg::Dict{String, Any})\n",
      "    @ VSCodeServer.JSONRPC ~/.vscode/extensions/julialang.language-julia-1.6.24/scripts/packages/JSONRPC/src/typed.jl:67\n",
      " [10] serve_notebook(pipename::String, outputchannel_logger::Base.CoreLogging.SimpleLogger; crashreporting_pipename::String)\n",
      "    @ VSCodeServer ~/.vscode/extensions/julialang.language-julia-1.6.24/scripts/packages/VSCodeServer/src/serve_notebook.jl:136\n",
      " [11] top-level scope\n",
      "    @ ~/.vscode/extensions/julialang.language-julia-1.6.24/scripts/notebook/notebook.jl:32\n",
      " [12] include(mod::Module, _path::String)\n",
      "    @ Base ./Base.jl:418\n",
      " [13] exec_options(opts::Base.JLOptions)\n",
      "    @ Base ./client.jl:292\n",
      " [14] _start()\n",
      "    @ Base ./client.jl:495"
     ]
    }
   ],
   "source": [
    "function diffuse_temperature!(pos::Dims{2}, model::DaisyWorld)"
   ]
  }
 ],
 "metadata": {
  "kernelspec": {
   "display_name": "Julia 1.7.3",
   "language": "julia",
   "name": "julia-1.7"
  },
  "language_info": {
   "file_extension": ".jl",
   "mimetype": "application/julia",
   "name": "julia",
   "version": "1.7.3"
  },
  "orig_nbformat": 4
 },
 "nbformat": 4,
 "nbformat_minor": 2
}
